{
 "cells": [
  {
   "cell_type": "code",
   "execution_count": null,
   "metadata": {},
   "outputs": [],
   "source": [
    "import matplotlib.pyplot as plt"
   ]
  },
  {
   "cell_type": "markdown",
   "metadata": {},
   "source": [
    "# Channel of MFI\n",
    "From XY direction, the following projection of channel can be obtained.\n",
    "        ![channel](./temp.png)\n",
    "        \n",
    "sinnuous interval is that $ y \\in [2.4927645, 7.3762355],[12.361745, 17.2452355], [22.2307645, 27.1142355], [32.0997645, 36.9832355] $\n",
    "\n",
    "straight interval is that $ y \\in [-1.9312, 2.0838], [8.1138, 12.2188], [18.1588, 22.1738], [28.2038, 32.2188], [38.2488, 42.2638]$\n",
    "\n",
    "interval information obtained from the above two channel\n",
    "\n",
    "***intervals of channels can be obtained according to atoms' coordinate in MFI.cif***"
   ]
  },
  {
   "cell_type": "code",
   "execution_count": null,
   "metadata": {},
   "outputs": [],
   "source": [
    "SoluteXYZ = []\n",
    "SolventXYZ = []\n",
    "NumberOfSolute = 8\n",
    "NumberOfSolvent = 80\n",
    "NumberOfFrames = 21001"
   ]
  },
  {
   "cell_type": "markdown",
   "metadata": {},
   "source": [
    "## Read molecule centers' trajectories"
   ]
  },
  {
   "cell_type": "code",
   "execution_count": null,
   "metadata": {},
   "outputs": [],
   "source": [
    "filename = \"center.txt\" \n",
    "with open(filename,\"r\") as rows:\n",
    "    for idx, row in enumerate(rows):\n",
    "        if row.split()[0] == \"C5\":\n",
    "            SoluteXYZ.append([float(row.split()[3]), float(row.split()[4]), float(row.split()[5])])\n",
    "        if row.split()[0] == \"H2\":\n",
    "            SolventXYZ.append([float(row.split()[2]), float(row.split()[3]), float(row.split()[4])])          "
   ]
  },
  {
   "cell_type": "markdown",
   "metadata": {},
   "source": [
    "## Set periodic boundary condition to drag molecules inside box"
   ]
  },
  {
   "cell_type": "code",
   "execution_count": null,
   "metadata": {},
   "outputs": [],
   "source": [
    "lengthsolute = len(SoluteXYZ)\n",
    "lengthsolvent = len(SolventXYZ)\n",
    "xlength, ylength, zlength = 40.18, 39.476, 26.284\n",
    "\n",
    "for i in range(lengthsolute):\n",
    "    while SoluteXYZ[i][0] > xlength:\n",
    "        SoluteXYZ[i][0] -= xlength\n",
    "        \n",
    "    while SoluteXYZ[i][0] < 0.0:\n",
    "        SoluteXYZ[i][0] += xlength\n",
    "        \n",
    "    while SoluteXYZ[i][1] > ylength:\n",
    "        SoluteXYZ[i][1] -= ylength\n",
    "        \n",
    "    while SoluteXYZ[i][1] < 0.0:\n",
    "        SoluteXYZ[i][1] += ylength\n",
    "        \n",
    "    while SoluteXYZ[i][2] > zlength:\n",
    "        SoluteXYZ[i][2] -= zlength\n",
    "        \n",
    "    while SoluteXYZ[i][2] < 0.0:\n",
    "        SoluteXYZ[i][2] += zlength\n",
    "        \n",
    "for i in range(lengthsolvent):\n",
    "    while SolventXYZ[i][0] > xlength:\n",
    "        SolventXYZ[i][0] -= xlength\n",
    "        \n",
    "    while SolventXYZ[i][0] < 0.0:\n",
    "        SolventXYZ[i][0] += xlength\n",
    "        \n",
    "    while SolventXYZ[i][1] > ylength:\n",
    "        SolventXYZ[i][1] -= ylength\n",
    "        \n",
    "    while SolventXYZ[i][1] < 0.0:\n",
    "        SolventXYZ[i][1] += ylength\n",
    "        \n",
    "    while SolventXYZ[i][2] > zlength:\n",
    "        SolventXYZ[i][2] -= zlength\n",
    "        \n",
    "    while SolventXYZ[i][2] < 0.0:\n",
    "        SolventXYZ[i][2] += zlength"
   ]
  },
  {
   "cell_type": "markdown",
   "metadata": {},
   "source": [
    "## Determine where a molecule is"
   ]
  },
  {
   "cell_type": "code",
   "execution_count": null,
   "metadata": {},
   "outputs": [],
   "source": [
    "def InSinuousInterval(x):\n",
    "    temp = 0\n",
    "    if (x < 7.3762355) & (x > 2.4927645):\n",
    "        temp += 1\n",
    "        \n",
    "    if (x < 17.2452355) & (x > 12.361745):\n",
    "        temp += 1\n",
    "        \n",
    "    if (x < 27.1142355) & (x > 22.2307645):\n",
    "        temp += 1\n",
    "        \n",
    "    if (x < 36.9832355) & (x > 32.0997645):\n",
    "        temp += 1\n",
    "        \n",
    "    if temp > 0:\n",
    "        return True\n",
    "    else:\n",
    "        return False\n",
    "    \n",
    "def InStraightInterval(x):\n",
    "    temp = 0\n",
    "    if (x < 2.0838) & (x > -1.9312):\n",
    "        temp += 1\n",
    "        \n",
    "    if (x < 12.2188) & (x > 8.1138):\n",
    "        temp += 1\n",
    "        \n",
    "    if (x < 22.1738) & (x > 18.1588):\n",
    "        temp += 1\n",
    "        \n",
    "    if (x < 32.2188) & (x > 28.2038):\n",
    "        temp += 1\n",
    "        \n",
    "    if (x < 42.2638) & (x > 38.2488):\n",
    "        temp += 1\n",
    "        \n",
    "    if temp > 0:\n",
    "        return True\n",
    "    else:\n",
    "        return False"
   ]
  },
  {
   "cell_type": "markdown",
   "metadata": {},
   "source": [
    "## compute numbers of  molecules in straight channel, sinnuous channel and intersection channel\n",
    "\n",
    "$n_{straight} = n_1 - n_{intersection}$\n",
    "\n",
    "$n_{sinnuous} = n_2 - n_{intersection}$\n",
    "\n",
    "$n_{undefine} = n_{total} - n_{straight} - n_{sinnuous} - n_{intersection}$\n",
    "\n",
    "some molecules may not belong to straight, sinnuous or intersection due to error, there are classified to **undefine**\n"
   ]
  },
  {
   "cell_type": "code",
   "execution_count": null,
   "metadata": {},
   "outputs": [],
   "source": [
    "n_solute_straights, n_solute_sinnuouss, n_solute_intersections = [], [], [] \n",
    "n_solvent_straights, n_solvent_sinnuouss, n_solvent_intersections = [], [], []\n",
    "n_solute_undefines, n_solvent_undefines = [], []\n",
    "'''\n",
    " n_solute_undefine = NumberOfSolute - n_solute_straight - n_solute_sinnuous - n_solute_intersecton\n",
    " n_solvent_undefine = NumberOfSolvent - n_solvent_straight - n_solvent_sinnuous - n_solvent_intersection\n",
    "'''\n",
    "\n",
    "for i in range(NumberOfFrames):\n",
    "    '''\n",
    "    1 refers to straight channel,\n",
    "    2 refers to sinnuous channel,\n",
    "    3 refers to intersection channel\n",
    "    '''\n",
    "    n_solute_1 = 0\n",
    "    n_solute_2 = 0\n",
    "    n_solute_3 = 0\n",
    "    n_solvent_1 = 0\n",
    "    n_solvent_2 = 0\n",
    "    n_solvent_3 = 0\n",
    "    # determine how many solute molecules are in straight, sinnuous and intersection channel\n",
    "    for j in range(NumberOfSolute):\n",
    "        if InStraightInterval(SoluteXYZ[j][0]):\n",
    "            n_solute_1 += 1\n",
    "        if InSinuousInterval(SoluteXYZ[j][1]):\n",
    "            n_solute_2 += 1\n",
    "        if InStraightInterval(SoluteXYZ[j][0]) & InSinuousInterval(SoluteXYZ[j][1]):\n",
    "            n_solute_3 += 1\n",
    "    \n",
    "    n_solute_straight = n_solute_1 - n_solute_3\n",
    "    n_solute_sinnuous = n_solute_2 - n_solute_3\n",
    "    n_solute_intersection = n_solute_3\n",
    "    n_solute_undefine = NumberOfSolute - n_solute_straight - n_solute_sinnuous - n_solute_intersection\n",
    "    n_solute_straights.append(n_solute_straight)\n",
    "    n_solute_sinnuouss.append(n_solute_sinnuous)\n",
    "    n_solute_intersections.append(n_solute_intersection)\n",
    "    n_solute_undefines.append(n_solute_undefine)\n",
    "    del SoluteXYZ[0:NumberOfSolute]\n",
    "    \n",
    "    # determine how many solvent are in straight, sinnuous and intersection channel\n",
    "    for j in range(NumberOfSolvent):\n",
    "        if InStraightInterval(SolventXYZ[j][0]):\n",
    "            n_solvent_1 += 1\n",
    "        if InSinuousInterval(SolventXYZ[j][1]):\n",
    "            n_solvent_2 += 1\n",
    "        if InStraightInterval(SolventXYZ[j][0]) & InSinuousInterval(SolventXYZ[j][1]):\n",
    "            n_solvent_3 += 1\n",
    "            \n",
    "    n_solvent_straight = n_solvent_1 - n_solvent_3\n",
    "    n_solvent_sinnuous = n_solvent_2 - n_solvent_3\n",
    "    n_solvent_intersection = n_solvent_3\n",
    "    n_solvent_undefine = NumberOfSolvent - n_solvent_straight - n_solvent_sinnuous - n_solvent_intersection\n",
    "    n_solvent_straights.append(n_solvent_straight)\n",
    "    n_solvent_sinnuouss.append(n_solvent_sinnuous)\n",
    "    n_solvent_intersections.append(n_solvent_intersection)\n",
    "    n_solvent_undefines.append(n_solvent_undefine)\n",
    "    del SolventXYZ[0:NumberOfSolvent]"
   ]
  },
  {
   "cell_type": "code",
   "execution_count": null,
   "metadata": {},
   "outputs": [],
   "source": [
    "fig, ax= plt.subplots(3, 2, figsize=(12,10), sharex='col')\n",
    "ax[0,0].hist(n_solute_straights,7,color='r',alpha=0.5)\n",
    "ax[1,0].hist(n_solute_sinnuouss,7,color='b',alpha=0.5)\n",
    "ax[2,0].hist(n_solute_intersections,7,color='y',alpha=0.5)\n",
    "ax[0,1].hist(n_solvent_straights,25,color='r',alpha=0.5)\n",
    "ax[1,1].hist(n_solvent_sinnuouss,30,color='b',alpha=0.5)\n",
    "ax[2,1].hist(n_solvent_intersections,30,color='y',alpha=0.5)\n",
    "ax[0,0].set_title(\"solute in channel\",fontsize=18)\n",
    "ax[0,1].set_title(\"solvent in channel\",fontsize=18)\n",
    "ax[0,0].set_ylabel(\"straight channel\",fontsize=16)\n",
    "ax[1,0].set_ylabel(\"sinnuous channel\",fontsize=16)\n",
    "ax[2,0].set_ylabel(\"intersection channel\",fontsize=16)\n",
    "plt.savefig(filename + \".tif\",dpi=1200)"
   ]
  }
 ],
 "metadata": {
  "kernelspec": {
   "display_name": "Python 3",
   "language": "python",
   "name": "python3"
  },
  "language_info": {
   "codemirror_mode": {
    "name": "ipython",
    "version": 3
   },
   "file_extension": ".py",
   "mimetype": "text/x-python",
   "name": "python",
   "nbconvert_exporter": "python",
   "pygments_lexer": "ipython3",
   "version": "3.7.6"
  }
 },
 "nbformat": 4,
 "nbformat_minor": 4
}
